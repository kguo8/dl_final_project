{
  "nbformat": 4,
  "nbformat_minor": 0,
  "metadata": {
    "kernelspec": {
      "display_name": "Python 3",
      "language": "python",
      "name": "python3"
    },
    "language_info": {
      "codemirror_mode": {
        "name": "ipython",
        "version": 3
      },
      "file_extension": ".py",
      "mimetype": "text/x-python",
      "name": "python",
      "nbconvert_exporter": "python",
      "pygments_lexer": "ipython3",
      "version": "3.8.5"
    },
    "colab": {
      "name": "rotation_noise_model.ipynb",
      "provenance": [],
      "collapsed_sections": []
    }
  },
  "cells": [
    {
      "cell_type": "code",
      "metadata": {
        "colab": {
          "base_uri": "https://localhost:8080/"
        },
        "id": "zDmLXqB0TWPC",
        "outputId": "15f76422-40fe-43c4-b367-2cac8e837430"
      },
      "source": [
        "!pip install git+https://github.com/albumentations-team/albumentations.git -q"
      ],
      "execution_count": 1,
      "outputs": [
        {
          "output_type": "stream",
          "text": [
            "\u001b[K     |████████████████████████████████| 37.1 MB 45 kB/s \n",
            "\u001b[?25h  Building wheel for albumentations (setup.py) ... \u001b[?25l\u001b[?25hdone\n"
          ],
          "name": "stdout"
        }
      ]
    },
    {
      "cell_type": "code",
      "metadata": {
        "id": "EgWNKP6wQMOr"
      },
      "source": [
        "import torch\n",
        "import torch.nn as nn"
      ],
      "execution_count": 2,
      "outputs": []
    },
    {
      "cell_type": "code",
      "metadata": {
        "id": "6qZCD-F3QMOu"
      },
      "source": [
        "class Encoder(nn.Module):\n",
        "    def __init__(self, channels=[3, 40, 60, 120, 160, 240], kernel=5, padding=2, pool_kernel=2):\n",
        "        super().__init__()\n",
        "        self.conv1 = nn.Conv2d(channels[0], channels[1], kernel, padding=padding)\n",
        "        self.conv2 = nn.Conv2d(channels[1], channels[2], kernel, padding=padding)\n",
        "        self.conv3 = nn.Conv2d(channels[2], channels[3], kernel, padding=padding)\n",
        "        self.conv4 = nn.Conv2d(channels[3], channels[4], kernel, padding=padding)\n",
        "        self.conv5 = nn.Conv2d(channels[4], channels[5], kernel, padding=padding)\n",
        "        \n",
        "        self.relu = nn.ReLU()\n",
        "        # setting stride to equal kernel\n",
        "        self.pool = nn.MaxPool2d(pool_kernel, stride=pool_kernel)\n",
        "    \n",
        "    def forward(self, x):\n",
        "        x = self.conv2(self.relu(self.conv1(x)))\n",
        "        x = self.pool(x)\n",
        "        x = self.conv4(self.relu(self.conv3(x)))\n",
        "        x = self.pool(x)\n",
        "        \n",
        "        return self.relu(self.conv5(x))\n",
        "    \n",
        "class Decoder(nn.Module):\n",
        "    def __init__(self, channels=[240, 120, 60, 2, 1], kernel=5, padding=2, mid_kernel=2):\n",
        "        super().__init__()\n",
        "        self.deconv1 = nn.ConvTranspose2d(channels[0], channels[1], kernel, padding=padding)\n",
        "        # kernel and stride to match the pool layer in the encoder\n",
        "        self.deconv2 = nn.ConvTranspose2d(channels[1], channels[2], mid_kernel, stride=mid_kernel)\n",
        "        self.deconv3 = nn.ConvTranspose2d(channels[2], channels[3], mid_kernel, stride=mid_kernel)\n",
        "        # for generating output (out channel is 1 mask is one layer)\n",
        "        self.deconv4 = nn.ConvTranspose2d(channels[3], channels[4], kernel, padding=padding)\n",
        "    \n",
        "        self.relu = nn.ReLU()\n",
        "        \n",
        "    def forward(self, x):\n",
        "        x = self.relu(self.deconv1(x))\n",
        "        x = self.relu(self.deconv2(x))\n",
        "        return self.deconv4(self.deconv3(x)).squeeze()\n",
        "\n",
        "class WickUnet(nn.Module):\n",
        "    def __init__(self):\n",
        "        super().__init__()\n",
        "        self.encoder = Encoder()\n",
        "        self.decoder = Decoder()\n",
        "\n",
        "    def forward(self, x):\n",
        "        return self.decoder(self.encoder(x))"
      ],
      "execution_count": 3,
      "outputs": []
    },
    {
      "cell_type": "markdown",
      "metadata": {
        "id": "sDzFFzv5QMOw"
      },
      "source": [
        "# model training"
      ]
    },
    {
      "cell_type": "code",
      "metadata": {
        "id": "2F8svSNyQMOx"
      },
      "source": [
        "import albumentations as A\n",
        "import albumentations.augmentations.functional as F\n",
        "from albumentations.pytorch import ToTensorV2\n",
        "import cv2\n",
        "import scipy\n",
        "import numpy as np\n",
        "\n",
        "import torch\n",
        "import torch.nn as nn\n",
        "from torch.utils.data import Dataset, DataLoader\n",
        "from torch.optim import Adam\n",
        "\n",
        "from collections import defaultdict\n",
        "import time\n",
        "import datetime\n",
        "\n",
        "import matplotlib.pyplot as plt"
      ],
      "execution_count": 4,
      "outputs": []
    },
    {
      "cell_type": "code",
      "metadata": {
        "id": "O4aY98fRQMOx"
      },
      "source": [
        "class ImageDataset(Dataset):\n",
        "    def __init__(self, image_names, transform, img_size=False):\n",
        "        self.image_names = image_names\n",
        "        self.transform = transform\n",
        "        self.img_size = img_size\n",
        "\n",
        "    def __len__(self):\n",
        "        return len(self.image_names)\n",
        "\n",
        "    def __getitem__(self, idx):\n",
        "        img = cv2.imread(f'/content/drive/MyDrive/prima/{self.image_names[idx]}.tif')\n",
        "        img = cv2.cvtColor(img, cv2.COLOR_BGR2RGB)\n",
        "        mask = scipy.sparse.load_npz(f'/content/drive/MyDrive/prima/mask_{self.image_names[idx]}.npz').todense()\n",
        "        \n",
        "        transformed = self.transform(image=img, mask=mask)\n",
        "        \n",
        "        if self.img_size:\n",
        "            return transformed[\"image\"], transformed[\"mask\"], img.shape[:2]\n",
        "        return transformed[\"image\"], transformed[\"mask\"]"
      ],
      "execution_count": 5,
      "outputs": []
    },
    {
      "cell_type": "code",
      "metadata": {
        "id": "xTjpmsiIQMOy"
      },
      "source": [
        "# was randomly chosen\n",
        "training_files = {'00008152', '00008153', '00008150', '00008148', '00325453',\n",
        "'00008063', '00008230', '00322470', '00325454', '00008332',\n",
        "'00008062', '00008143', '00008344', '00008141', '00008146',\n",
        "'00008088', '00008346', '00325450', '00008149', '00008147',\n",
        "'00325448', '00008227', '00008151', '00322599', '00322596',\n",
        "'00008334', '00008336', '00008089', '00008229', '00322468',\n",
        "'00008144', '00008340', '00008061', '00008084', '00325449',\n",
        "'00322471', '00008140', '00322469', '00008086', '00008145'}\n",
        "\n",
        "test_files = {'00008228',\n",
        " '00322597',\n",
        " '00008338',\n",
        " '00008064',\n",
        " '00322598',\n",
        " '00325451',\n",
        " '00008142',\n",
        " '00325452',\n",
        " '00008154',\n",
        " '00008342'}"
      ],
      "execution_count": 6,
      "outputs": []
    },
    {
      "cell_type": "code",
      "metadata": {
        "id": "ivmvDhauQMOz"
      },
      "source": [
        "def train(model, dataloader, loss_fun, optimizer):\n",
        "    total_loss = 0\n",
        "    total_row = 0\n",
        "\n",
        "    model.train()\n",
        "\n",
        "    for img, mask in dataloader:\n",
        "        img = img.cuda()\n",
        "        mask = mask.cuda()\n",
        "        \n",
        "        pred = model(img)\n",
        "        loss = loss_fun(pred, mask.float())\n",
        "\n",
        "        total_loss += loss.item() * img.shape[0]\n",
        "        total_row += img.shape[0]\n",
        "                \n",
        "        optimizer.zero_grad()\n",
        "        loss.backward()\n",
        "        optimizer.step()\n",
        "\n",
        "    if (not t % 10) and (t != 0):\n",
        "        torch.save(model, f'/content/drive/MyDrive/prima/{model_name}_epoch_{t}.pt')\n",
        "\n",
        "    return total_loss / total_row\n",
        "\n",
        "def validate(model, dataloader, loss_fun):\n",
        "    total_loss = 0\n",
        "    total_row = 0\n",
        "    \n",
        "    model.eval()\n",
        "    \n",
        "    with torch.no_grad():\n",
        "        for img, mask in dataloader:\n",
        "            img = img.cuda()\n",
        "            mask = mask.cuda()\n",
        "\n",
        "            pred = model(img)\n",
        "            loss = loss_fun(pred, mask.float())\n",
        "\n",
        "            total_loss += loss.item() * img.shape[0]\n",
        "            total_row += img.shape[0]\n",
        "\n",
        "    return total_loss / total_row\n",
        "\n",
        "def format_time(elapsed):\n",
        "    elapsed_rounded = int(round((elapsed)))\n",
        "    return str(datetime.timedelta(seconds=elapsed_rounded))"
      ],
      "execution_count": 7,
      "outputs": []
    },
    {
      "cell_type": "markdown",
      "metadata": {
        "id": "9NKDUYaqQMO1"
      },
      "source": [
        "# Training"
      ]
    },
    {
      "cell_type": "code",
      "metadata": {
        "id": "lS-kdxQAQMO3"
      },
      "source": [
        "train_transform = A.Compose(\n",
        "    [\n",
        "        \n",
        "        A.PadIfNeeded(min_height=10296, min_width=7020),\n",
        "        A.Resize(396, 264),\n",
        "        A.Rotate(limit = 10, border_mode = cv2.BORDER_CONSTANT,  value = 0.0, p = .5),\n",
        "        A.GaussNoise(p = .75),\n",
        "        A.Normalize(mean=(0.485, 0.456, 0.406), std=(0.229, 0.224, 0.225)),\n",
        "        ToTensorV2(),\n",
        "    ]\n",
        ")\n",
        "\n",
        "val_transform = A.Compose(\n",
        "    [\n",
        "         A.PadIfNeeded(min_height=10296, min_width=7020),\n",
        "         A.Resize(396, 264),\n",
        "         A.Normalize(mean=(0.485, 0.456, 0.406), std=(0.229, 0.224, 0.225)),\n",
        "         ToTensorV2()\n",
        "    ]\n",
        ")"
      ],
      "execution_count": 8,
      "outputs": []
    },
    {
      "cell_type": "code",
      "metadata": {
        "id": "neNDZwqZQMO5"
      },
      "source": [
        "np.random.seed(511)\n",
        "train_files = np.random.choice(list(training_files), 35, replace=False).tolist()\n",
        "val_files = list(training_files.difference(train_files))"
      ],
      "execution_count": 9,
      "outputs": []
    },
    {
      "cell_type": "code",
      "metadata": {
        "id": "rzCzetNAQMO5"
      },
      "source": [
        "batch_size = 16\n",
        "epoch = 100"
      ],
      "execution_count": 10,
      "outputs": []
    },
    {
      "cell_type": "code",
      "metadata": {
        "id": "iDW6SjATQMO5"
      },
      "source": [
        "train_loss = {}\n",
        "validation_loss = {}\n",
        "model_name = 'rotate_noise'"
      ],
      "execution_count": 11,
      "outputs": []
    },
    {
      "cell_type": "code",
      "metadata": {
        "colab": {
          "base_uri": "https://localhost:8080/"
        },
        "id": "vVH-1T-XQMO6",
        "outputId": "4312bcff-87f1-4219-87a6-171ac457b5d2"
      },
      "source": [
        "model = WickUnet()\n",
        "model.cuda()\n",
        "optimizer = Adam(model.parameters(), lr=0.001)\n",
        "loss_fun = nn.BCEWithLogitsLoss()\n",
        "\n",
        "train_ds = ImageDataset(train_files, train_transform)\n",
        "val_ds = ImageDataset(val_files, val_transform)\n",
        "\n",
        "train_dl = DataLoader(train_ds, batch_size, shuffle=True)\n",
        "val_dl = DataLoader(val_ds, batch_size, shuffle=False)\n",
        "\n",
        "\n",
        "for t in range(epoch):\n",
        "    start = time.time()\n",
        "    tl = train(model, train_dl, loss_fun, optimizer)\n",
        "    train_time = format_time(time.time() - start)\n",
        "\n",
        "    start = time.time()\n",
        "    vl = validate(model, val_dl, loss_fun)\n",
        "    val_time = format_time(time.time() - start)\n",
        "\n",
        "    train_loss[t] = tl\n",
        "    validation_loss[t] = vl\n",
        "\n",
        "    print(f'Epoch: {t}, train_loss: {round(tl, 4)}, train_time: {train_time}, val_loss: {round(vl, 4)}, val_time: {val_time}')"
      ],
      "execution_count": 15,
      "outputs": [
        {
          "output_type": "stream",
          "text": [
            "Epoch: 0, train_loss: 0.7381, train_time: 0:00:21, val_loss: 0.6699, val_time: 0:00:09\n",
            "Epoch: 1, train_loss: 0.6519, train_time: 0:00:20, val_loss: 0.5787, val_time: 0:00:02\n",
            "Epoch: 2, train_loss: 0.6269, train_time: 0:00:20, val_loss: 0.591, val_time: 0:00:03\n",
            "Epoch: 3, train_loss: 0.6141, train_time: 0:00:21, val_loss: 0.5907, val_time: 0:00:03\n",
            "Epoch: 4, train_loss: 0.5946, train_time: 0:00:20, val_loss: 0.5954, val_time: 0:00:02\n",
            "Epoch: 5, train_loss: 0.5945, train_time: 0:00:21, val_loss: 0.5662, val_time: 0:00:03\n",
            "Epoch: 6, train_loss: 0.5929, train_time: 0:00:21, val_loss: 0.5628, val_time: 0:00:02\n",
            "Epoch: 7, train_loss: 0.5906, train_time: 0:00:20, val_loss: 0.5697, val_time: 0:00:02\n",
            "Epoch: 8, train_loss: 0.5879, train_time: 0:00:21, val_loss: 0.5935, val_time: 0:00:03\n",
            "Epoch: 9, train_loss: 0.6066, train_time: 0:00:21, val_loss: 0.5648, val_time: 0:00:02\n",
            "Epoch: 10, train_loss: 0.5848, train_time: 0:00:20, val_loss: 0.5677, val_time: 0:00:02\n",
            "Epoch: 11, train_loss: 0.5774, train_time: 0:00:21, val_loss: 0.5727, val_time: 0:00:03\n",
            "Epoch: 12, train_loss: 0.5809, train_time: 0:00:21, val_loss: 0.5824, val_time: 0:00:03\n",
            "Epoch: 13, train_loss: 0.5833, train_time: 0:00:21, val_loss: 0.577, val_time: 0:00:02\n",
            "Epoch: 14, train_loss: 0.5717, train_time: 0:00:20, val_loss: 0.5771, val_time: 0:00:02\n",
            "Epoch: 15, train_loss: 0.569, train_time: 0:00:21, val_loss: 0.5882, val_time: 0:00:03\n",
            "Epoch: 16, train_loss: 0.5655, train_time: 0:00:21, val_loss: 0.5937, val_time: 0:00:02\n",
            "Epoch: 17, train_loss: 0.5698, train_time: 0:00:20, val_loss: 0.5674, val_time: 0:00:02\n",
            "Epoch: 18, train_loss: 0.5564, train_time: 0:00:20, val_loss: 0.5744, val_time: 0:00:03\n",
            "Epoch: 19, train_loss: 0.5544, train_time: 0:00:21, val_loss: 0.5662, val_time: 0:00:02\n",
            "Epoch: 20, train_loss: 0.5565, train_time: 0:00:20, val_loss: 0.5339, val_time: 0:00:02\n",
            "Epoch: 21, train_loss: 0.5647, train_time: 0:00:21, val_loss: 0.533, val_time: 0:00:03\n",
            "Epoch: 22, train_loss: 0.5456, train_time: 0:00:21, val_loss: 0.5691, val_time: 0:00:02\n",
            "Epoch: 23, train_loss: 0.5762, train_time: 0:00:20, val_loss: 0.5198, val_time: 0:00:02\n",
            "Epoch: 24, train_loss: 0.5467, train_time: 0:00:21, val_loss: 0.5634, val_time: 0:00:03\n",
            "Epoch: 25, train_loss: 0.5656, train_time: 0:00:21, val_loss: 0.5657, val_time: 0:00:03\n",
            "Epoch: 26, train_loss: 0.5903, train_time: 0:00:21, val_loss: 0.5648, val_time: 0:00:02\n",
            "Epoch: 27, train_loss: 0.5637, train_time: 0:00:20, val_loss: 0.577, val_time: 0:00:02\n",
            "Epoch: 28, train_loss: 0.5651, train_time: 0:00:21, val_loss: 0.5603, val_time: 0:00:03\n",
            "Epoch: 29, train_loss: 0.5561, train_time: 0:00:21, val_loss: 0.5488, val_time: 0:00:02\n",
            "Epoch: 30, train_loss: 0.5577, train_time: 0:00:20, val_loss: 0.5321, val_time: 0:00:02\n",
            "Epoch: 31, train_loss: 0.5477, train_time: 0:00:21, val_loss: 0.5526, val_time: 0:00:03\n",
            "Epoch: 32, train_loss: 0.5667, train_time: 0:00:21, val_loss: 0.5743, val_time: 0:00:02\n",
            "Epoch: 33, train_loss: 0.553, train_time: 0:00:20, val_loss: 0.5688, val_time: 0:00:02\n",
            "Epoch: 34, train_loss: 0.5479, train_time: 0:00:21, val_loss: 0.5339, val_time: 0:00:03\n",
            "Epoch: 35, train_loss: 0.5515, train_time: 0:00:20, val_loss: 0.5232, val_time: 0:00:02\n",
            "Epoch: 36, train_loss: 0.5559, train_time: 0:00:20, val_loss: 0.5175, val_time: 0:00:02\n",
            "Epoch: 37, train_loss: 0.5535, train_time: 0:00:21, val_loss: 0.5211, val_time: 0:00:03\n",
            "Epoch: 38, train_loss: 0.5441, train_time: 0:00:20, val_loss: 0.5372, val_time: 0:00:02\n",
            "Epoch: 39, train_loss: 0.547, train_time: 0:00:20, val_loss: 0.5374, val_time: 0:00:02\n",
            "Epoch: 40, train_loss: 0.5424, train_time: 0:00:21, val_loss: 0.5379, val_time: 0:00:03\n",
            "Epoch: 41, train_loss: 0.5371, train_time: 0:00:21, val_loss: 0.5719, val_time: 0:00:03\n",
            "Epoch: 42, train_loss: 0.5417, train_time: 0:00:21, val_loss: 0.5578, val_time: 0:00:02\n",
            "Epoch: 43, train_loss: 0.5431, train_time: 0:00:20, val_loss: 0.5435, val_time: 0:00:02\n",
            "Epoch: 44, train_loss: 0.5411, train_time: 0:00:21, val_loss: 0.5903, val_time: 0:00:03\n",
            "Epoch: 45, train_loss: 0.5328, train_time: 0:00:21, val_loss: 0.5449, val_time: 0:00:02\n",
            "Epoch: 46, train_loss: 0.5296, train_time: 0:00:20, val_loss: 0.6623, val_time: 0:00:02\n",
            "Epoch: 47, train_loss: 0.5418, train_time: 0:00:21, val_loss: 0.5193, val_time: 0:00:03\n",
            "Epoch: 48, train_loss: 0.5606, train_time: 0:00:20, val_loss: 0.5116, val_time: 0:00:02\n",
            "Epoch: 49, train_loss: 0.5539, train_time: 0:00:20, val_loss: 0.5044, val_time: 0:00:02\n",
            "Epoch: 50, train_loss: 0.5342, train_time: 0:00:21, val_loss: 0.5867, val_time: 0:00:03\n",
            "Epoch: 51, train_loss: 0.5567, train_time: 0:00:21, val_loss: 0.5669, val_time: 0:00:02\n",
            "Epoch: 52, train_loss: 0.5879, train_time: 0:00:20, val_loss: 0.5172, val_time: 0:00:02\n",
            "Epoch: 53, train_loss: 0.5499, train_time: 0:00:21, val_loss: 0.5406, val_time: 0:00:03\n",
            "Epoch: 54, train_loss: 0.563, train_time: 0:00:21, val_loss: 0.5161, val_time: 0:00:03\n",
            "Epoch: 55, train_loss: 0.5464, train_time: 0:00:21, val_loss: 0.5252, val_time: 0:00:02\n",
            "Epoch: 56, train_loss: 0.5302, train_time: 0:00:20, val_loss: 0.6028, val_time: 0:00:02\n",
            "Epoch: 57, train_loss: 0.5373, train_time: 0:00:21, val_loss: 0.5728, val_time: 0:00:03\n",
            "Epoch: 58, train_loss: 0.5264, train_time: 0:00:21, val_loss: 0.5958, val_time: 0:00:02\n",
            "Epoch: 59, train_loss: 0.5283, train_time: 0:00:20, val_loss: 0.5457, val_time: 0:00:02\n",
            "Epoch: 60, train_loss: 0.5211, train_time: 0:00:21, val_loss: 0.5225, val_time: 0:00:03\n",
            "Epoch: 61, train_loss: 0.5218, train_time: 0:00:20, val_loss: 0.5579, val_time: 0:00:02\n",
            "Epoch: 62, train_loss: 0.5281, train_time: 0:00:20, val_loss: 0.5525, val_time: 0:00:02\n",
            "Epoch: 63, train_loss: 0.5143, train_time: 0:00:21, val_loss: 0.535, val_time: 0:00:03\n",
            "Epoch: 64, train_loss: 0.5187, train_time: 0:00:20, val_loss: 0.5431, val_time: 0:00:02\n",
            "Epoch: 65, train_loss: 0.5155, train_time: 0:00:20, val_loss: 0.5397, val_time: 0:00:03\n",
            "Epoch: 66, train_loss: 0.516, train_time: 0:00:21, val_loss: 0.5257, val_time: 0:00:03\n",
            "Epoch: 67, train_loss: 0.5128, train_time: 0:00:20, val_loss: 0.5369, val_time: 0:00:02\n",
            "Epoch: 68, train_loss: 0.5234, train_time: 0:00:20, val_loss: 0.5656, val_time: 0:00:03\n",
            "Epoch: 69, train_loss: 0.5424, train_time: 0:00:21, val_loss: 0.6912, val_time: 0:00:02\n",
            "Epoch: 70, train_loss: 0.5639, train_time: 0:00:21, val_loss: 0.5197, val_time: 0:00:03\n",
            "Epoch: 71, train_loss: 0.5368, train_time: 0:00:21, val_loss: 0.5226, val_time: 0:00:02\n",
            "Epoch: 72, train_loss: 0.5385, train_time: 0:00:20, val_loss: 0.5377, val_time: 0:00:02\n",
            "Epoch: 73, train_loss: 0.521, train_time: 0:00:21, val_loss: 0.5181, val_time: 0:00:03\n",
            "Epoch: 74, train_loss: 0.5078, train_time: 0:00:20, val_loss: 0.707, val_time: 0:00:02\n",
            "Epoch: 75, train_loss: 0.5513, train_time: 0:00:20, val_loss: 0.5202, val_time: 0:00:02\n",
            "Epoch: 76, train_loss: 0.5093, train_time: 0:00:21, val_loss: 0.5723, val_time: 0:00:03\n",
            "Epoch: 77, train_loss: 0.521, train_time: 0:00:20, val_loss: 0.5472, val_time: 0:00:02\n",
            "Epoch: 78, train_loss: 0.5184, train_time: 0:00:20, val_loss: 0.5396, val_time: 0:00:03\n",
            "Epoch: 79, train_loss: 0.5127, train_time: 0:00:21, val_loss: 0.5874, val_time: 0:00:03\n",
            "Epoch: 80, train_loss: 0.5231, train_time: 0:00:20, val_loss: 0.5835, val_time: 0:00:02\n",
            "Epoch: 81, train_loss: 0.5093, train_time: 0:00:20, val_loss: 0.6015, val_time: 0:00:03\n",
            "Epoch: 82, train_loss: 0.5155, train_time: 0:00:21, val_loss: 0.5706, val_time: 0:00:02\n",
            "Epoch: 83, train_loss: 0.5145, train_time: 0:00:21, val_loss: 0.5524, val_time: 0:00:03\n",
            "Epoch: 84, train_loss: 0.5155, train_time: 0:00:21, val_loss: 0.594, val_time: 0:00:02\n",
            "Epoch: 85, train_loss: 0.5054, train_time: 0:00:20, val_loss: 0.5871, val_time: 0:00:02\n",
            "Epoch: 86, train_loss: 0.5016, train_time: 0:00:21, val_loss: 0.5208, val_time: 0:00:03\n",
            "Epoch: 87, train_loss: 0.5068, train_time: 0:00:20, val_loss: 0.5261, val_time: 0:00:02\n",
            "Epoch: 88, train_loss: 0.5083, train_time: 0:00:20, val_loss: 0.5827, val_time: 0:00:03\n",
            "Epoch: 89, train_loss: 0.5035, train_time: 0:00:21, val_loss: 0.6142, val_time: 0:00:03\n",
            "Epoch: 90, train_loss: 0.5026, train_time: 0:00:20, val_loss: 0.5244, val_time: 0:00:02\n",
            "Epoch: 91, train_loss: 0.5031, train_time: 0:00:20, val_loss: 0.5325, val_time: 0:00:03\n",
            "Epoch: 92, train_loss: 0.4917, train_time: 0:00:21, val_loss: 0.6327, val_time: 0:00:02\n",
            "Epoch: 93, train_loss: 0.5008, train_time: 0:00:20, val_loss: 0.525, val_time: 0:00:02\n",
            "Epoch: 94, train_loss: 0.4872, train_time: 0:00:20, val_loss: 0.5562, val_time: 0:00:03\n",
            "Epoch: 95, train_loss: 0.4872, train_time: 0:00:21, val_loss: 0.5603, val_time: 0:00:02\n",
            "Epoch: 96, train_loss: 0.4841, train_time: 0:00:20, val_loss: 0.5389, val_time: 0:00:02\n",
            "Epoch: 97, train_loss: 0.4873, train_time: 0:00:21, val_loss: 0.5445, val_time: 0:00:03\n",
            "Epoch: 98, train_loss: 0.483, train_time: 0:00:21, val_loss: 0.5407, val_time: 0:00:02\n",
            "Epoch: 99, train_loss: 0.4873, train_time: 0:00:21, val_loss: 0.5093, val_time: 0:00:03\n"
          ],
          "name": "stdout"
        }
      ]
    },
    {
      "cell_type": "code",
      "metadata": {
        "id": "8YaTjmGJloxV"
      },
      "source": [
        "torch.save(model, f'/content/drive/MyDrive/prima/{model_name}_epoch_{t}.pt')"
      ],
      "execution_count": 16,
      "outputs": []
    },
    {
      "cell_type": "code",
      "metadata": {
        "colab": {
          "base_uri": "https://localhost:8080/",
          "height": 269
        },
        "id": "ON-tIzcFQMO6",
        "outputId": "fa2de31d-c077-4d74-ecb5-b83ecb47870b"
      },
      "source": [
        "plt.plot(list(train_loss.keys()), list(train_loss.values()), label='train')\n",
        "plt.plot(list(validation_loss.keys()), list(validation_loss.values()), label='val')\n",
        "plt.legend()\n",
        "plt.show()"
      ],
      "execution_count": 17,
      "outputs": [
        {
          "output_type": "display_data",
          "data": {
            "image/png": "[encoded data removed]",
            "text/plain": [
              "<Figure size 432x288 with 1 Axes>"
            ]
          },
          "metadata": {
            "tags": [],
            "needs_background": "light"
          }
        }
      ]
    },
    {
      "cell_type": "markdown",
      "metadata": {
        "id": "rufPBdMbQMO6"
      },
      "source": [
        "hi "
      ]
    }
  ]
}