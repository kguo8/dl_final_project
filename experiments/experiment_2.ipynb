{
 "cells": [
  {
   "cell_type": "code",
   "execution_count": 1,
   "metadata": {
    "id": "1vb89segcXy5"
   },
   "outputs": [],
   "source": [
    "import torch\n",
    "import torch.nn as nn"
   ]
  },
  {
   "cell_type": "code",
   "execution_count": 2,
   "metadata": {
    "id": "FVgpx_VufYh2"
   },
   "outputs": [],
   "source": [
    "class Encoder(nn.Module):\n",
    "    def __init__(self, channels=[3, 40, 60, 120, 160, 240], kernel=5, padding=2, pool_kernel=2):\n",
    "        super().__init__()\n",
    "        self.conv1 = nn.Conv2d(channels[0], channels[1], kernel, padding=padding)\n",
    "        self.conv2 = nn.Conv2d(channels[1], channels[2], kernel, padding=padding)\n",
    "        self.conv3 = nn.Conv2d(channels[2], channels[3], kernel, padding=padding)\n",
    "        self.conv4 = nn.Conv2d(channels[3], channels[4], kernel, padding=padding)\n",
    "        self.conv5 = nn.Conv2d(channels[4], channels[5], kernel, padding=padding)\n",
    "        \n",
    "        self.relu = nn.ReLU()\n",
    "        # setting stride to equal kernel\n",
    "        self.pool = nn.MaxPool2d(pool_kernel, stride=pool_kernel)\n",
    "    \n",
    "    def forward(self, x):\n",
    "        x = self.conv2(self.relu(self.conv1(x)))\n",
    "        x = self.pool(x)\n",
    "        x = self.conv4(self.relu(self.conv3(x)))\n",
    "        x = self.pool(x)\n",
    "        \n",
    "        return self.relu(self.conv5(x))\n",
    "    \n",
    "class Decoder(nn.Module):\n",
    "    def __init__(self, channels=[240, 120, 60, 2, 1], kernel=5, padding=2, mid_kernel=2):\n",
    "        super().__init__()\n",
    "        self.deconv1 = nn.ConvTranspose2d(channels[0], channels[1], kernel, padding=padding)\n",
    "        # kernel and stride to match the pool layer in the encoder\n",
    "        self.deconv2 = nn.ConvTranspose2d(channels[1], channels[2], mid_kernel, stride=mid_kernel)\n",
    "        self.deconv3 = nn.ConvTranspose2d(channels[2], channels[3], mid_kernel, stride=mid_kernel)\n",
    "        # for generating output (out channel is 1 mask is one layer)\n",
    "        self.deconv4 = nn.ConvTranspose2d(channels[3], channels[4], kernel, padding=padding)\n",
    "    \n",
    "        self.relu = nn.ReLU()\n",
    "    def forward(self, x):\n",
    "        x = self.relu(self.deconv1(x))\n",
    "        x = self.relu(self.deconv2(x))\n",
    "        return self.deconv4(self.deconv3(x)).squeeze()\n",
    "\n",
    "class WickUnet(nn.Module):\n",
    "    def __init__(self):\n",
    "        super().__init__()\n",
    "        self.encoder = Encoder()\n",
    "        self.decoder = Decoder()\n",
    "\n",
    "    def forward(self, x):\n",
    "        return self.decoder(self.encoder(x))\n"
   ]
  },
  {
   "cell_type": "code",
   "execution_count": 3,
   "metadata": {
    "id": "EMdWhDaXffGt"
   },
   "outputs": [],
   "source": [
    "import albumentations as A\n",
    "import albumentations.augmentations.functional as F\n",
    "from albumentations.pytorch import ToTensorV2\n",
    "import cv2\n",
    "import scipy\n",
    "import numpy as np\n",
    "\n",
    "import torch\n",
    "import torch.nn as nn\n",
    "from torch.utils.data import Dataset, DataLoader\n",
    "from torch.optim import Adam\n",
    "\n",
    "from collections import defaultdict\n",
    "import time\n",
    "import datetime\n",
    "\n",
    "import matplotlib.pyplot as plt"
   ]
  },
  {
   "cell_type": "code",
   "execution_count": 4,
   "metadata": {
    "id": "xIg924qkfoMF"
   },
   "outputs": [],
   "source": [
    "class ImageDataset(Dataset):\n",
    "    def __init__(self, image_names, transform, img_size=False):\n",
    "        self.image_names = image_names\n",
    "        self.transform = transform\n",
    "        self.img_size = img_size\n",
    "\n",
    "    def __len__(self):\n",
    "        return len(self.image_names)\n",
    "\n",
    "    def __getitem__(self, idx):\n",
    "        img = cv2.imread(f'drive/MyDrive/final/prima/{self.image_names[idx]}.tif')\n",
    "        img = cv2.cvtColor(img, cv2.COLOR_BGR2RGB)\n",
    "        mask = scipy.sparse.load_npz(f'drive/MyDrive/final/mask/mask_{self.image_names[idx]}.npz').todense()\n",
    "        \n",
    "        transformed = self.transform(image=img, mask=mask)\n",
    "        \n",
    "        if self.img_size:\n",
    "            return transformed[\"image\"], transformed[\"mask\"], img.shape[:2]\n",
    "        return transformed[\"image\"], transformed[\"mask\"]"
   ]
  },
  {
   "cell_type": "code",
   "execution_count": 5,
   "metadata": {
    "id": "mtoBbDnKf8aW"
   },
   "outputs": [],
   "source": [
    "# was randomly chosen\n",
    "training_files = {'00008152', '00008153', '00008150', '00008148', '00325453',\n",
    "'00008063', '00008230', '00322470', '00325454', '00008332',\n",
    "'00008062', '00008143', '00008344', '00008141', '00008146',\n",
    "'00008088', '00008346', '00325450', '00008149', '00008147',\n",
    "'00325448', '00008227', '00008151', '00322599', '00322596',\n",
    "'00008334', '00008336', '00008089', '00008229', '00322468',\n",
    "'00008144', '00008340', '00008061', '00008084', '00325449',\n",
    "'00322471', '00008140', '00322469', '00008086', '00008145'}\n",
    "\n",
    "test_files = {'00008228',\n",
    " '00322597',\n",
    " '00008338',\n",
    " '00008064',\n",
    " '00322598',\n",
    " '00325451',\n",
    " '00008142',\n",
    " '00325452',\n",
    " '00008154',\n",
    " '00008342'}"
   ]
  },
  {
   "cell_type": "code",
   "execution_count": 6,
   "metadata": {
    "id": "6X5g4tAegBSJ"
   },
   "outputs": [],
   "source": [
    "def train(model, dataloader, loss_fun, optimizer):\n",
    "    total_loss = 0\n",
    "    total_row = 0\n",
    "\n",
    "    model.train()\n",
    "\n",
    "    for img, mask in dataloader:\n",
    "        img = img.cuda()\n",
    "        mask = mask.cuda()\n",
    "        \n",
    "        pred = model(img)\n",
    "        loss = loss_fun(pred, mask.float())\n",
    "\n",
    "        total_loss += loss.item() * img.shape[0]\n",
    "        total_row += img.shape[0]\n",
    "                \n",
    "        optimizer.zero_grad()\n",
    "        loss.backward()\n",
    "        optimizer.step()\n",
    "\n",
    "    return total_loss / total_row\n"
   ]
  },
  {
   "cell_type": "code",
   "execution_count": 7,
   "metadata": {
    "id": "XOwwtTUhgDQ9"
   },
   "outputs": [],
   "source": [
    "def validate(model, dataloader, loss_fun):\n",
    "    total_loss = 0\n",
    "    total_row = 0\n",
    "    \n",
    "    model.eval()\n",
    "    \n",
    "    with torch.no_grad():\n",
    "        for img, mask in dataloader:\n",
    "            img = img.cuda()\n",
    "            mask = mask.cuda()\n",
    "\n",
    "            pred = model(img)\n",
    "            loss = loss_fun(pred, mask.float())\n",
    "\n",
    "            total_loss += loss.item() * img.shape[0]\n",
    "            total_row += img.shape[0]\n",
    "\n",
    "    return total_loss / total_row\n",
    "\n",
    "def format_time(elapsed):\n",
    "    elapsed_rounded = int(round((elapsed)))\n",
    "    return str(datetime.timedelta(seconds=elapsed_rounded))"
   ]
  },
  {
   "cell_type": "code",
   "execution_count": 8,
   "metadata": {
    "id": "HsFr8O_-gFnq"
   },
   "outputs": [],
   "source": [
    "train_transform = A.Compose(\n",
    "    [\n",
    "        \n",
    "        A.PadIfNeeded(min_height=10296, min_width=7020),\n",
    "        A.Resize(396, 264),\n",
    "        ### add here\n",
    "        A.ShiftScaleRotate(shift_limit=0.2, scale_limit=0.2, rotate_limit=30, p=0.5),\n",
    "        A.RGBShift(r_shift_limit=25, g_shift_limit=25, b_shift_limit=25, p=0.5),\n",
    "        A.RandomBrightnessContrast(brightness_limit=0.3, contrast_limit=0.3, p=0.5),\n",
    "        A.Normalize(mean=(0.485, 0.456, 0.406), std=(0.229, 0.224, 0.225)),\n",
    "        ToTensorV2(),\n",
    "    ]\n",
    ")\n",
    "\n",
    "val_transform = A.Compose(\n",
    "    [\n",
    "         A.PadIfNeeded(min_height=10296, min_width=7020),\n",
    "         A.Resize(396, 264),\n",
    "         A.Normalize(mean=(0.485, 0.456, 0.406), std=(0.229, 0.224, 0.225)),\n",
    "         ToTensorV2()\n",
    "    ]\n",
    ")"
   ]
  },
  {
   "cell_type": "code",
   "execution_count": 9,
   "metadata": {
    "id": "UKA0cXmHgNUk"
   },
   "outputs": [],
   "source": [
    "np.random.seed(511)\n",
    "train_files = np.random.choice(list(training_files), 35, replace=False).tolist()\n",
    "val_files = list(training_files.difference(train_files))"
   ]
  },
  {
   "cell_type": "code",
   "execution_count": 10,
   "metadata": {
    "id": "YyLaNmkRgPbL"
   },
   "outputs": [],
   "source": [
    "batch_size = 16\n",
    "epoch = 100"
   ]
  },
  {
   "cell_type": "code",
   "execution_count": 11,
   "metadata": {
    "id": "zZzriihHgS7O"
   },
   "outputs": [],
   "source": [
    "train_loss = {}\n",
    "validation_loss = {}"
   ]
  },
  {
   "cell_type": "code",
   "execution_count": 12,
   "metadata": {
    "id": "EQsPaH_4guZK"
   },
   "outputs": [],
   "source": [
    "from google.colab import files"
   ]
  },
  {
   "cell_type": "code",
   "execution_count": 17,
   "metadata": {
    "colab": {
     "base_uri": "https://localhost:8080/",
     "height": 1000
    },
    "id": "ttzyJ1-igUij",
    "outputId": "94fbc73c-50ba-4bdb-abe9-9a09e18e0176"
   },
   "outputs": [
    {
     "name": "stdout",
     "output_type": "stream",
     "text": [
      "Epoch: 0, train_loss: 0.7338, train_time: 0:00:19, val_loss: 0.7089, val_time: 0:00:20\n",
      "Epoch: 1, train_loss: 0.6557, train_time: 0:00:20, val_loss: 0.7943, val_time: 0:00:19\n",
      "Epoch: 2, train_loss: 0.6999, train_time: 0:00:20, val_loss: 0.6589, val_time: 0:00:20\n",
      "Epoch: 3, train_loss: 0.6723, train_time: 0:00:20, val_loss: 0.661, val_time: 0:00:20\n",
      "Epoch: 4, train_loss: 0.6536, train_time: 0:00:19, val_loss: 0.64, val_time: 0:00:20\n",
      "Epoch: 5, train_loss: 0.6057, train_time: 0:00:20, val_loss: 0.6045, val_time: 0:00:19\n",
      "Epoch: 6, train_loss: 0.6157, train_time: 0:00:19, val_loss: 0.6105, val_time: 0:00:20\n",
      "Epoch: 7, train_loss: 0.6067, train_time: 0:00:19, val_loss: 0.6008, val_time: 0:00:19\n",
      "Epoch: 8, train_loss: 0.6059, train_time: 0:00:20, val_loss: 0.6318, val_time: 0:00:20\n",
      "Epoch: 9, train_loss: 0.6048, train_time: 0:00:19, val_loss: 0.6128, val_time: 0:00:19\n",
      "Epoch: 10, train_loss: 0.6032, train_time: 0:00:20, val_loss: 0.5995, val_time: 0:00:20\n",
      "Epoch: 11, train_loss: 0.5961, train_time: 0:00:20, val_loss: 0.6024, val_time: 0:00:19\n",
      "Epoch: 12, train_loss: 0.593, train_time: 0:00:19, val_loss: 0.5964, val_time: 0:00:20\n",
      "Epoch: 13, train_loss: 0.585, train_time: 0:00:19, val_loss: 0.62, val_time: 0:00:19\n",
      "Epoch: 14, train_loss: 0.6013, train_time: 0:00:20, val_loss: 0.5946, val_time: 0:00:19\n",
      "Epoch: 15, train_loss: 0.6118, train_time: 0:00:19, val_loss: 0.6381, val_time: 0:00:19\n",
      "Epoch: 16, train_loss: 0.6414, train_time: 0:00:20, val_loss: 0.6215, val_time: 0:00:19\n",
      "Epoch: 17, train_loss: 0.6071, train_time: 0:00:19, val_loss: 0.6262, val_time: 0:00:20\n",
      "Epoch: 18, train_loss: 0.6108, train_time: 0:00:19, val_loss: 0.6077, val_time: 0:00:19\n",
      "Epoch: 19, train_loss: 0.6313, train_time: 0:00:20, val_loss: 0.6144, val_time: 0:00:20\n",
      "Epoch: 20, train_loss: 0.6144, train_time: 0:00:20, val_loss: 0.6006, val_time: 0:00:20\n",
      "Epoch: 21, train_loss: 0.5856, train_time: 0:00:19, val_loss: 0.6269, val_time: 0:00:20\n",
      "Epoch: 22, train_loss: 0.6103, train_time: 0:00:20, val_loss: 0.5838, val_time: 0:00:19\n",
      "Epoch: 23, train_loss: 0.5973, train_time: 0:00:19, val_loss: 0.5794, val_time: 0:00:20\n",
      "Epoch: 24, train_loss: 0.5804, train_time: 0:00:19, val_loss: 0.5816, val_time: 0:00:19\n",
      "Epoch: 25, train_loss: 0.588, train_time: 0:00:20, val_loss: 0.5806, val_time: 0:00:20\n",
      "Epoch: 26, train_loss: 0.5857, train_time: 0:00:19, val_loss: 0.5989, val_time: 0:00:19\n",
      "Epoch: 27, train_loss: 0.5947, train_time: 0:00:20, val_loss: 0.5908, val_time: 0:00:20\n",
      "Epoch: 28, train_loss: 0.5816, train_time: 0:00:20, val_loss: 0.5909, val_time: 0:00:19\n",
      "Epoch: 29, train_loss: 0.5943, train_time: 0:00:19, val_loss: 0.5708, val_time: 0:00:20\n",
      "Epoch: 30, train_loss: 0.5726, train_time: 0:00:19, val_loss: 0.5706, val_time: 0:00:19\n",
      "Epoch: 31, train_loss: 0.5786, train_time: 0:00:20, val_loss: 0.5916, val_time: 0:00:19\n",
      "Epoch: 32, train_loss: 0.5706, train_time: 0:00:19, val_loss: 0.5725, val_time: 0:00:19\n",
      "Epoch: 33, train_loss: 0.5879, train_time: 0:00:20, val_loss: 0.5885, val_time: 0:00:19\n",
      "Epoch: 34, train_loss: 0.5738, train_time: 0:00:19, val_loss: 0.6878, val_time: 0:00:20\n",
      "Epoch: 35, train_loss: 0.6026, train_time: 0:00:19, val_loss: 0.5806, val_time: 0:00:19\n",
      "Epoch: 36, train_loss: 0.5966, train_time: 0:00:20, val_loss: 0.5773, val_time: 0:00:20\n",
      "Epoch: 37, train_loss: 0.5775, train_time: 0:00:20, val_loss: 0.5928, val_time: 0:00:19\n",
      "Epoch: 38, train_loss: 0.5875, train_time: 0:00:19, val_loss: 0.571, val_time: 0:00:19\n",
      "Epoch: 39, train_loss: 0.5846, train_time: 0:00:20, val_loss: 0.5909, val_time: 0:00:19\n",
      "Epoch: 40, train_loss: 0.5778, train_time: 0:00:19, val_loss: 0.5739, val_time: 0:00:20\n",
      "Epoch: 41, train_loss: 0.568, train_time: 0:00:19, val_loss: 0.5921, val_time: 0:00:19\n",
      "Epoch: 42, train_loss: 0.592, train_time: 0:00:20, val_loss: 0.5815, val_time: 0:00:20\n",
      "Epoch: 43, train_loss: 0.5804, train_time: 0:00:19, val_loss: 0.5643, val_time: 0:00:19\n",
      "Epoch: 44, train_loss: 0.568, train_time: 0:00:20, val_loss: 0.5676, val_time: 0:00:20\n",
      "Epoch: 45, train_loss: 0.5816, train_time: 0:00:20, val_loss: 0.5832, val_time: 0:00:19\n",
      "Epoch: 46, train_loss: 0.5797, train_time: 0:00:19, val_loss: 0.5748, val_time: 0:00:20\n",
      "Epoch: 47, train_loss: 0.5631, train_time: 0:00:19, val_loss: 0.5937, val_time: 0:00:19\n",
      "Epoch: 48, train_loss: 0.5779, train_time: 0:00:20, val_loss: 0.5841, val_time: 0:00:20\n",
      "Epoch: 49, train_loss: 0.5861, train_time: 0:00:19, val_loss: 0.5893, val_time: 0:00:19\n",
      "Epoch: 50, train_loss: 0.5875, train_time: 0:00:20, val_loss: 0.5592, val_time: 0:00:19\n",
      "Epoch: 51, train_loss: 0.57, train_time: 0:00:19, val_loss: 0.6062, val_time: 0:00:20\n",
      "Epoch: 52, train_loss: 0.6043, train_time: 0:00:19, val_loss: 0.5783, val_time: 0:00:19\n",
      "Epoch: 53, train_loss: 0.5849, train_time: 0:00:20, val_loss: 0.5993, val_time: 0:00:20\n",
      "Epoch: 54, train_loss: 0.5957, train_time: 0:00:20, val_loss: 0.5707, val_time: 0:00:19\n",
      "Epoch: 55, train_loss: 0.5595, train_time: 0:00:19, val_loss: 0.5613, val_time: 0:00:20\n",
      "Epoch: 56, train_loss: 0.5796, train_time: 0:00:20, val_loss: 0.5614, val_time: 0:00:19\n",
      "Epoch: 57, train_loss: 0.5792, train_time: 0:00:19, val_loss: 0.5991, val_time: 0:00:20\n",
      "Epoch: 58, train_loss: 0.6021, train_time: 0:00:19, val_loss: 0.5925, val_time: 0:00:19\n",
      "Epoch: 59, train_loss: 0.5907, train_time: 0:00:20, val_loss: 0.5662, val_time: 0:00:20\n",
      "Epoch: 60, train_loss: 0.5664, train_time: 0:00:19, val_loss: 0.5817, val_time: 0:00:19\n",
      "Epoch: 61, train_loss: 0.5691, train_time: 0:00:20, val_loss: 0.5626, val_time: 0:00:20\n",
      "Epoch: 62, train_loss: 0.5669, train_time: 0:00:20, val_loss: 0.5687, val_time: 0:00:19\n",
      "Epoch: 63, train_loss: 0.5845, train_time: 0:00:19, val_loss: 0.5626, val_time: 0:00:20\n",
      "Epoch: 64, train_loss: 0.5572, train_time: 0:00:19, val_loss: 0.5632, val_time: 0:00:19\n",
      "Epoch: 65, train_loss: 0.5708, train_time: 0:00:20, val_loss: 0.5645, val_time: 0:00:19\n",
      "Epoch: 66, train_loss: 0.5544, train_time: 0:00:19, val_loss: 0.5621, val_time: 0:00:19\n",
      "Epoch: 67, train_loss: 0.5434, train_time: 0:00:20, val_loss: 0.557, val_time: 0:00:19\n",
      "Epoch: 68, train_loss: 0.559, train_time: 0:00:19, val_loss: 0.5568, val_time: 0:00:20\n",
      "Epoch: 69, train_loss: 0.5596, train_time: 0:00:19, val_loss: 0.5579, val_time: 0:00:19\n",
      "Epoch: 70, train_loss: 0.5674, train_time: 0:00:19, val_loss: 0.5537, val_time: 0:00:20\n",
      "Epoch: 71, train_loss: 0.5569, train_time: 0:00:20, val_loss: 0.5527, val_time: 0:00:19\n",
      "Epoch: 72, train_loss: 0.5504, train_time: 0:00:19, val_loss: 0.5655, val_time: 0:00:20\n",
      "Epoch: 73, train_loss: 0.5545, train_time: 0:00:20, val_loss: 0.5741, val_time: 0:00:19\n",
      "Epoch: 74, train_loss: 0.548, train_time: 0:00:19, val_loss: 0.5647, val_time: 0:00:20\n",
      "Epoch: 75, train_loss: 0.5659, train_time: 0:00:19, val_loss: 0.5623, val_time: 0:00:19\n",
      "Epoch: 76, train_loss: 0.5511, train_time: 0:00:20, val_loss: 0.5452, val_time: 0:00:20\n",
      "Epoch: 77, train_loss: 0.5644, train_time: 0:00:19, val_loss: 0.5597, val_time: 0:00:19\n",
      "Epoch: 78, train_loss: 0.5653, train_time: 0:00:20, val_loss: 0.5681, val_time: 0:00:20\n",
      "Epoch: 79, train_loss: 0.5696, train_time: 0:00:20, val_loss: 0.5581, val_time: 0:00:19\n",
      "Epoch: 80, train_loss: 0.5555, train_time: 0:00:19, val_loss: 0.5444, val_time: 0:00:20\n",
      "Epoch: 81, train_loss: 0.5579, train_time: 0:00:19, val_loss: 0.5505, val_time: 0:00:19\n",
      "Epoch: 82, train_loss: 0.5679, train_time: 0:00:20, val_loss: 0.5621, val_time: 0:00:20\n",
      "Epoch: 83, train_loss: 0.5508, train_time: 0:00:19, val_loss: 0.5598, val_time: 0:00:19\n",
      "Epoch: 84, train_loss: 0.5574, train_time: 0:00:20, val_loss: 0.5385, val_time: 0:00:19\n",
      "Epoch: 85, train_loss: 0.5567, train_time: 0:00:19, val_loss: 0.5444, val_time: 0:00:20\n",
      "Epoch: 86, train_loss: 0.5546, train_time: 0:00:19, val_loss: 0.5531, val_time: 0:00:20\n",
      "Epoch: 87, train_loss: 0.5519, train_time: 0:00:19, val_loss: 0.5505, val_time: 0:00:19\n",
      "Epoch: 88, train_loss: 0.5478, train_time: 0:00:19, val_loss: 0.5604, val_time: 0:00:20\n",
      "Epoch: 89, train_loss: 0.5562, train_time: 0:00:19, val_loss: 0.5626, val_time: 0:00:19\n",
      "Epoch: 90, train_loss: 0.5609, train_time: 0:00:20, val_loss: 0.5422, val_time: 0:00:19\n",
      "Epoch: 91, train_loss: 0.5563, train_time: 0:00:19, val_loss: 0.5448, val_time: 0:00:20\n",
      "Epoch: 92, train_loss: 0.561, train_time: 0:00:19, val_loss: 0.5451, val_time: 0:00:19\n",
      "Epoch: 93, train_loss: 0.5513, train_time: 0:00:19, val_loss: 0.545, val_time: 0:00:20\n",
      "Epoch: 94, train_loss: 0.5438, train_time: 0:00:19, val_loss: 0.5374, val_time: 0:00:19\n",
      "Epoch: 95, train_loss: 0.5457, train_time: 0:00:20, val_loss: 0.5521, val_time: 0:00:19\n",
      "Epoch: 96, train_loss: 0.5479, train_time: 0:00:20, val_loss: 0.5382, val_time: 0:00:19\n",
      "Epoch: 97, train_loss: 0.5379, train_time: 0:00:19, val_loss: 0.7377, val_time: 0:00:20\n",
      "Epoch: 98, train_loss: 0.6792, train_time: 0:00:19, val_loss: 0.6679, val_time: 0:00:19\n",
      "Epoch: 99, train_loss: 0.6783, train_time: 0:00:19, val_loss: 0.5947, val_time: 0:00:20\n"
     ]
    },
    {
     "data": {
      "image/png": "[encoded data removed]",
      "text/plain": [
       "<Figure size 432x288 with 1 Axes>"
      ]
     },
     "metadata": {
      "needs_background": "light",
      "tags": []
     },
     "output_type": "display_data"
    }
   ],
   "source": [
    "model = WickUnet()\n",
    "model.cuda()\n",
    "optimizer = Adam(model.parameters(), lr=0.001)\n",
    "loss_fun = nn.BCEWithLogitsLoss()\n",
    "\n",
    "train_ds = ImageDataset(train_files, train_transform)\n",
    "val_ds = ImageDataset(val_files, val_transform)\n",
    "\n",
    "train_dl = DataLoader(train_ds, batch_size, shuffle=True)\n",
    "val_dl = DataLoader(val_ds, batch_size, shuffle=False)\n",
    "\n",
    "\n",
    "for t in range(epoch):\n",
    "    start = time.time()\n",
    "    tl = train(model, train_dl, loss_fun, optimizer)\n",
    "    train_time = format_time(time.time() - start)\n",
    "\n",
    "    start = time.time()\n",
    "    vl = validate(model, train_dl, loss_fun)\n",
    "    val_time = format_time(time.time() - start)\n",
    "\n",
    "    train_loss[t] = tl\n",
    "    validation_loss[t] = vl\n",
    "    if (not t % 10) and (t != 0):\n",
    "        torch.save(model, f'drive/MyDrive/final/model_2_epoch_{t}.pt')\n",
    "\n",
    "        lists = sorted(train_loss.items()) # sorted by key, return a list of tuples\n",
    "        x, y = zip(*lists) # unpack a list of pairs into two tuples\n",
    "        plt.plot(x, y, label = 'train')\n",
    "\n",
    "        lists_1 = sorted(validation_loss.items()) # sorted by key, return a list of tuples\n",
    "        x_1, y_1 = zip(*lists_1) # unpack a list of pairs into two tuples\n",
    "        plt.plot(x_1, y_1, label = 'val')\n",
    "        \n",
    "        plt.legend()\n",
    "        # plt.show()\n",
    "        plt.savefig(f'drive/MyDrive/final/model_2_epoch_{t}.png')\n",
    "\n",
    "    print(f'Epoch: {t}, train_loss: {round(tl, 4)}, train_time: {train_time}, val_loss: {round(vl, 4)}, val_time: {val_time}')"
   ]
  },
  {
   "cell_type": "code",
   "execution_count": 18,
   "metadata": {
    "id": "7M7NZV7thqs0"
   },
   "outputs": [],
   "source": [
    "torch.save(model, 'drive/MyDrive/final/model_2.pt')"
   ]
  },
  {
   "cell_type": "code",
   "execution_count": 19,
   "metadata": {
    "colab": {
     "base_uri": "https://localhost:8080/",
     "height": 265
    },
    "id": "ukJooxWykb3m",
    "outputId": "18395254-7756-4ba4-da54-064d8cf0a2ba"
   },
   "outputs": [
    {
     "data": {
      "image/png": "[encoded data removed]",
      "text/plain": [
       "<Figure size 432x288 with 1 Axes>"
      ]
     },
     "metadata": {
      "needs_background": "light",
      "tags": []
     },
     "output_type": "display_data"
    }
   ],
   "source": [
    "lists = sorted(train_loss.items())\n",
    "\n",
    "x, y = zip(*lists)\n",
    "\n",
    "plt.plot(x, y, label = 'train')\n",
    "lists_1 = sorted(validation_loss.items()) \n",
    "\n",
    "x_1, y_1 = zip(*lists_1) \n",
    "\n",
    "plt.plot(x_1, y_1, label = 'val')\n",
    "plt.legend()\n",
    "plt.savefig(f'drive/MyDrive/final/model_2.png')"
   ]
  },
  {
   "cell_type": "code",
   "execution_count": 20,
   "metadata": {
    "colab": {
     "base_uri": "https://localhost:8080/",
     "height": 17
    },
    "id": "3zuOzLG_1M5V",
    "outputId": "393073c1-6cdc-45e6-b3ee-0279d7033565"
   },
   "outputs": [
    {
     "data": {
      "application/javascript": [
       "\n",
       "    async function download(id, filename, size) {\n",
       "      if (!google.colab.kernel.accessAllowed) {\n",
       "        return;\n",
       "      }\n",
       "      const div = document.createElement('div');\n",
       "      const label = document.createElement('label');\n",
       "      label.textContent = `Downloading \"${filename}\": `;\n",
       "      div.appendChild(label);\n",
       "      const progress = document.createElement('progress');\n",
       "      progress.max = size;\n",
       "      div.appendChild(progress);\n",
       "      document.body.appendChild(div);\n",
       "\n",
       "      const buffers = [];\n",
       "      let downloaded = 0;\n",
       "\n",
       "      const channel = await google.colab.kernel.comms.open(id);\n",
       "      // Send a message to notify the kernel that we're ready.\n",
       "      channel.send({})\n",
       "\n",
       "      for await (const message of channel.messages) {\n",
       "        // Send a message to notify the kernel that we're ready.\n",
       "        channel.send({})\n",
       "        if (message.buffers) {\n",
       "          for (const buffer of message.buffers) {\n",
       "            buffers.push(buffer);\n",
       "            downloaded += buffer.byteLength;\n",
       "            progress.value = downloaded;\n",
       "          }\n",
       "        }\n",
       "      }\n",
       "      const blob = new Blob(buffers, {type: 'application/binary'});\n",
       "      const a = document.createElement('a');\n",
       "      a.href = window.URL.createObjectURL(blob);\n",
       "      a.download = filename;\n",
       "      div.appendChild(a);\n",
       "      a.click();\n",
       "      div.remove();\n",
       "    }\n",
       "  "
      ],
      "text/plain": [
       "<IPython.core.display.Javascript object>"
      ]
     },
     "metadata": {
      "tags": []
     },
     "output_type": "display_data"
    },
    {
     "data": {
      "application/javascript": [
       "download(\"download_0569919a-93cb-403b-aac9-5297fdf6cdd4\", \"model_2.pt\", 9741231)"
      ],
      "text/plain": [
       "<IPython.core.display.Javascript object>"
      ]
     },
     "metadata": {
      "tags": []
     },
     "output_type": "display_data"
    }
   ],
   "source": [
    "files.download(f'drive/MyDrive/final/model_2.pt')"
   ]
  },
  {
   "cell_type": "code",
   "execution_count": null,
   "metadata": {
    "id": "6AwUYMyV1XDr"
   },
   "outputs": [],
   "source": []
  }
 ],
 "metadata": {
  "accelerator": "GPU",
  "colab": {
   "name": "model_2.ipynb",
   "provenance": []
  },
  "kernelspec": {
   "display_name": "Python 3",
   "language": "python",
   "name": "python3"
  },
  "language_info": {
   "codemirror_mode": {
    "name": "ipython",
    "version": 3
   },
   "file_extension": ".py",
   "mimetype": "text/x-python",
   "name": "python",
   "nbconvert_exporter": "python",
   "pygments_lexer": "ipython3",
   "version": "3.8.2"
  }
 },
 "nbformat": 4,
 "nbformat_minor": 4
}
