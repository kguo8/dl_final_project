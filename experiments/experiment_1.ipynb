{
 "cells": [
  {
   "cell_type": "code",
   "execution_count": 18,
   "metadata": {
    "id": "Vpdjg1-SbIDZ"
   },
   "outputs": [],
   "source": [
    "import torch\n",
    "import torch.nn as nn"
   ]
  },
  {
   "cell_type": "code",
   "execution_count": 21,
   "metadata": {
    "id": "v4iejrL2bvKg"
   },
   "outputs": [],
   "source": [
    "class Encoder(nn.Module):\n",
    "    def __init__(self, channels=[3, 40, 60, 120, 160, 240], kernel=5, padding=2, pool_kernel=2):\n",
    "        super().__init__()\n",
    "        self.conv1 = nn.Conv2d(channels[0], channels[1], kernel, padding=padding)\n",
    "        self.conv2 = nn.Conv2d(channels[1], channels[2], kernel, padding=padding)\n",
    "        self.conv3 = nn.Conv2d(channels[2], channels[3], kernel, padding=padding)\n",
    "        self.conv4 = nn.Conv2d(channels[3], channels[4], kernel, padding=padding)\n",
    "        self.conv5 = nn.Conv2d(channels[4], channels[5], kernel, padding=padding)\n",
    "        \n",
    "        self.relu = nn.ReLU()\n",
    "        # setting stride to equal kernel\n",
    "        self.pool = nn.MaxPool2d(pool_kernel, stride=pool_kernel)\n",
    "    \n",
    "    def forward(self, x):\n",
    "        x = self.conv2(self.relu(self.conv1(x)))\n",
    "        x = self.pool(x)\n",
    "        x = self.conv4(self.relu(self.conv3(x)))\n",
    "        x = self.pool(x)\n",
    "        \n",
    "        return self.relu(self.conv5(x))\n",
    "    \n",
    "class Decoder(nn.Module):\n",
    "    def __init__(self, channels=[240, 120, 60, 2, 1], kernel=5, padding=2, mid_kernel=2):\n",
    "        super().__init__()\n",
    "        self.deconv1 = nn.ConvTranspose2d(channels[0], channels[1], kernel, padding=padding)\n",
    "        # kernel and stride to match the pool layer in the encoder\n",
    "        self.deconv2 = nn.ConvTranspose2d(channels[1], channels[2], mid_kernel, stride=mid_kernel)\n",
    "        self.deconv3 = nn.ConvTranspose2d(channels[2], channels[3], mid_kernel, stride=mid_kernel)\n",
    "        # for generating output (out channel is 1 mask is one layer)\n",
    "        self.deconv4 = nn.ConvTranspose2d(channels[3], channels[4], kernel, padding=padding)\n",
    "    \n",
    "        self.relu = nn.ReLU()\n",
    "        \n",
    "    def forward(self, x):\n",
    "        x = self.relu(self.deconv1(x))\n",
    "        x = self.relu(self.deconv2(x))\n",
    "        return self.deconv4(self.deconv3(x)).squeeze()\n",
    "\n",
    "class WickUnet(nn.Module):\n",
    "    def __init__(self):\n",
    "        super().__init__()\n",
    "        self.encoder = Encoder()\n",
    "        self.decoder = Decoder()\n",
    "\n",
    "    def forward(self, x):\n",
    "        return self.decoder(self.encoder(x))\n"
   ]
  },
  {
   "cell_type": "code",
   "execution_count": 22,
   "metadata": {
    "id": "iiBOC7GFb4Ls"
   },
   "outputs": [],
   "source": [
    "import albumentations as A\n",
    "import albumentations.augmentations.functional as F\n",
    "from albumentations.pytorch import ToTensorV2\n",
    "import cv2\n",
    "import scipy\n",
    "import numpy as np\n",
    "\n",
    "import torch\n",
    "import torch.nn as nn\n",
    "from torch.utils.data import Dataset, DataLoader\n",
    "from torch.optim import Adam\n",
    "\n",
    "from collections import defaultdict\n",
    "import time\n",
    "import datetime\n",
    "\n",
    "import matplotlib.pyplot as plt"
   ]
  },
  {
   "cell_type": "code",
   "execution_count": 40,
   "metadata": {
    "id": "-AdhsjDyb7Cj"
   },
   "outputs": [],
   "source": [
    "class ImageDataset(Dataset):\n",
    "    def __init__(self, image_names, transform, img_size=False):\n",
    "        self.image_names = image_names\n",
    "        self.transform = transform\n",
    "        self.img_size = img_size\n",
    "\n",
    "    def __len__(self):\n",
    "        return len(self.image_names)\n",
    "\n",
    "    def __getitem__(self, idx):\n",
    "        img = cv2.imread(f'drive/MyDrive/final/prima/{self.image_names[idx]}.tif')\n",
    "        img = cv2.cvtColor(img, cv2.COLOR_BGR2RGB)\n",
    "        mask = scipy.sparse.load_npz(f'drive/MyDrive/final/mask/mask_{self.image_names[idx]}.npz').todense()\n",
    "        \n",
    "        transformed = self.transform(image=img, mask=mask)\n",
    "        \n",
    "        if self.img_size:\n",
    "            return transformed[\"image\"], transformed[\"mask\"], img.shape[:2]\n",
    "        return transformed[\"image\"], transformed[\"mask\"]"
   ]
  },
  {
   "cell_type": "code",
   "execution_count": 41,
   "metadata": {
    "id": "SkNf2sVGcKTL"
   },
   "outputs": [],
   "source": [
    "# was randomly chosen\n",
    "training_files = {'00008152', '00008153', '00008150', '00008148', '00325453',\n",
    "'00008063', '00008230', '00322470', '00325454', '00008332',\n",
    "'00008062', '00008143', '00008344', '00008141', '00008146',\n",
    "'00008088', '00008346', '00325450', '00008149', '00008147',\n",
    "'00325448', '00008227', '00008151', '00322599', '00322596',\n",
    "'00008334', '00008336', '00008089', '00008229', '00322468',\n",
    "'00008144', '00008340', '00008061', '00008084', '00325449',\n",
    "'00322471', '00008140', '00322469', '00008086', '00008145'}\n",
    "\n",
    "test_files = {'00008228',\n",
    " '00322597',\n",
    " '00008338',\n",
    " '00008064',\n",
    " '00322598',\n",
    " '00325451',\n",
    " '00008142',\n",
    " '00325452',\n",
    " '00008154',\n",
    " '00008342'}"
   ]
  },
  {
   "cell_type": "code",
   "execution_count": 42,
   "metadata": {
    "id": "WOGvsxZFcoa_"
   },
   "outputs": [],
   "source": [
    "def train(model, dataloader, loss_fun, optimizer):\n",
    "    total_loss = 0\n",
    "    total_row = 0\n",
    "\n",
    "    model.train()\n",
    "\n",
    "    for img, mask in dataloader:\n",
    "        img = img.cuda()\n",
    "        mask = mask.cuda()\n",
    "        \n",
    "        pred = model(img)\n",
    "        loss = loss_fun(pred, mask.float())\n",
    "\n",
    "        total_loss += loss.item() * img.shape[0]\n",
    "        total_row += img.shape[0]\n",
    "                \n",
    "        optimizer.zero_grad()\n",
    "        loss.backward()\n",
    "        optimizer.step()\n",
    "\n",
    "    return total_loss / total_row\n"
   ]
  },
  {
   "cell_type": "code",
   "execution_count": 43,
   "metadata": {
    "id": "ygQ7d0JuILQT"
   },
   "outputs": [],
   "source": [
    "def validate(model, dataloader, loss_fun):\n",
    "    total_loss = 0\n",
    "    total_row = 0\n",
    "    \n",
    "    model.eval()\n",
    "    \n",
    "    with torch.no_grad():\n",
    "        for img, mask in dataloader:\n",
    "            img = img.cuda()\n",
    "            mask = mask.cuda()\n",
    "\n",
    "            pred = model(img)\n",
    "            loss = loss_fun(pred, mask.float())\n",
    "\n",
    "            total_loss += loss.item() * img.shape[0]\n",
    "            total_row += img.shape[0]\n",
    "\n",
    "    return total_loss / total_row\n",
    "\n",
    "def format_time(elapsed):\n",
    "    elapsed_rounded = int(round((elapsed)))\n",
    "    return str(datetime.timedelta(seconds=elapsed_rounded))"
   ]
  },
  {
   "cell_type": "code",
   "execution_count": 44,
   "metadata": {
    "id": "cKuDVAL2INlI"
   },
   "outputs": [],
   "source": [
    "train_transform = A.Compose(\n",
    "    [\n",
    "        \n",
    "        A.PadIfNeeded(min_height=10296, min_width=7020),\n",
    "        A.Resize(396, 264),\n",
    "        ### add here\n",
    "        A.Normalize(mean=(0.485, 0.456, 0.406), std=(0.229, 0.224, 0.225)),\n",
    "        ToTensorV2(),\n",
    "    ]\n",
    ")\n",
    "\n",
    "val_transform = A.Compose(\n",
    "    [\n",
    "         A.PadIfNeeded(min_height=10296, min_width=7020),\n",
    "         A.Resize(396, 264),\n",
    "         A.Normalize(mean=(0.485, 0.456, 0.406), std=(0.229, 0.224, 0.225)),\n",
    "         ToTensorV2()\n",
    "    ]\n",
    ")\n"
   ]
  },
  {
   "cell_type": "code",
   "execution_count": 45,
   "metadata": {
    "id": "258n0uWcIUlC"
   },
   "outputs": [],
   "source": [
    "np.random.seed(511)\n",
    "train_files = np.random.choice(list(training_files), 35, replace=False).tolist()\n",
    "val_files = list(training_files.difference(train_files))"
   ]
  },
  {
   "cell_type": "code",
   "execution_count": 46,
   "metadata": {
    "id": "DwtYU-ZlIXCf"
   },
   "outputs": [],
   "source": [
    "batch_size = 16\n",
    "epoch = 100"
   ]
  },
  {
   "cell_type": "code",
   "execution_count": 47,
   "metadata": {
    "id": "_S_OXk7vIYtk"
   },
   "outputs": [],
   "source": [
    "train_loss = {}\n",
    "validation_loss = {}"
   ]
  },
  {
   "cell_type": "code",
   "execution_count": 48,
   "metadata": {
    "colab": {
     "base_uri": "https://localhost:8080/"
    },
    "id": "Tsvw2LKuIap-",
    "outputId": "123811f0-bf90-4867-85a4-3ea34e86a528"
   },
   "outputs": [
    {
     "name": "stderr",
     "output_type": "stream",
     "text": [
      "/usr/local/lib/python3.7/dist-packages/torch/nn/functional.py:718: UserWarning: Named tensors and all their associated APIs are an experimental feature and subject to change. Please do not use them for anything important until they are released as stable. (Triggered internally at  /pytorch/c10/core/TensorImpl.h:1156.)\n",
      "  return torch.max_pool2d(input, kernel_size, stride, padding, dilation, ceil_mode)\n"
     ]
    },
    {
     "name": "stdout",
     "output_type": "stream",
     "text": [
      "Epoch: 0, train_loss: 0.7022, train_time: 0:00:56, val_loss: 1.6831, val_time: 0:00:19\n",
      "Epoch: 1, train_loss: 1.1741, train_time: 0:00:19, val_loss: 0.6883, val_time: 0:00:19\n",
      "Epoch: 2, train_loss: 0.6901, train_time: 0:00:20, val_loss: 0.6727, val_time: 0:00:19\n",
      "Epoch: 3, train_loss: 0.6494, train_time: 0:00:18, val_loss: 0.9946, val_time: 0:00:19\n",
      "Epoch: 4, train_loss: 0.816, train_time: 0:00:20, val_loss: 0.6829, val_time: 0:00:19\n",
      "Epoch: 5, train_loss: 0.6861, train_time: 0:00:19, val_loss: 0.6898, val_time: 0:00:20\n",
      "Epoch: 6, train_loss: 0.683, train_time: 0:00:19, val_loss: 0.6357, val_time: 0:00:19\n",
      "Epoch: 7, train_loss: 0.6249, train_time: 0:00:19, val_loss: 0.6159, val_time: 0:00:19\n",
      "Epoch: 8, train_loss: 0.6058, train_time: 0:00:19, val_loss: 0.6049, val_time: 0:00:19\n",
      "Epoch: 9, train_loss: 0.6042, train_time: 0:00:20, val_loss: 0.6033, val_time: 0:00:19\n",
      "Epoch: 10, train_loss: 0.6042, train_time: 0:00:20, val_loss: 0.5943, val_time: 0:00:18\n",
      "Epoch: 11, train_loss: 0.5994, train_time: 0:00:18, val_loss: 0.61, val_time: 0:00:20\n",
      "Epoch: 12, train_loss: 0.6034, train_time: 0:00:19, val_loss: 0.5951, val_time: 0:00:18\n",
      "Epoch: 13, train_loss: 0.5972, train_time: 0:00:19, val_loss: 0.5996, val_time: 0:00:20\n",
      "Epoch: 14, train_loss: 0.5932, train_time: 0:00:18, val_loss: 0.5865, val_time: 0:00:19\n",
      "Epoch: 15, train_loss: 0.5889, train_time: 0:00:20, val_loss: 0.5809, val_time: 0:00:19\n",
      "Epoch: 16, train_loss: 0.583, train_time: 0:00:18, val_loss: 0.5907, val_time: 0:00:19\n",
      "Epoch: 17, train_loss: 0.5895, train_time: 0:00:19, val_loss: 0.5745, val_time: 0:00:18\n",
      "Epoch: 18, train_loss: 0.5747, train_time: 0:00:18, val_loss: 0.5719, val_time: 0:00:20\n",
      "Epoch: 19, train_loss: 0.5716, train_time: 0:00:19, val_loss: 0.5696, val_time: 0:00:20\n",
      "Epoch: 20, train_loss: 0.5682, train_time: 0:00:19, val_loss: 0.5729, val_time: 0:00:18\n",
      "Epoch: 21, train_loss: 0.5783, train_time: 0:00:20, val_loss: 0.5682, val_time: 0:00:19\n",
      "Epoch: 22, train_loss: 0.5779, train_time: 0:00:18, val_loss: 0.5842, val_time: 0:00:19\n",
      "Epoch: 23, train_loss: 0.6136, train_time: 0:00:20, val_loss: 0.6372, val_time: 0:00:18\n",
      "Epoch: 24, train_loss: 0.622, train_time: 0:00:18, val_loss: 0.5749, val_time: 0:00:20\n",
      "Epoch: 25, train_loss: 0.576, train_time: 0:00:19, val_loss: 0.6027, val_time: 0:00:18\n",
      "Epoch: 26, train_loss: 0.5947, train_time: 0:00:19, val_loss: 0.571, val_time: 0:00:20\n",
      "Epoch: 27, train_loss: 0.5818, train_time: 0:00:19, val_loss: 0.588, val_time: 0:00:19\n",
      "Epoch: 28, train_loss: 0.5811, train_time: 0:00:18, val_loss: 0.5727, val_time: 0:00:18\n",
      "Epoch: 29, train_loss: 0.5798, train_time: 0:00:20, val_loss: 0.5814, val_time: 0:00:19\n",
      "Epoch: 30, train_loss: 0.5823, train_time: 0:00:18, val_loss: 0.5677, val_time: 0:00:19\n",
      "Epoch: 31, train_loss: 0.567, train_time: 0:00:19, val_loss: 0.5644, val_time: 0:00:18\n",
      "Epoch: 32, train_loss: 0.564, train_time: 0:00:18, val_loss: 0.5613, val_time: 0:00:19\n",
      "Epoch: 33, train_loss: 0.5614, train_time: 0:00:18, val_loss: 0.5578, val_time: 0:00:18\n",
      "Epoch: 34, train_loss: 0.5572, train_time: 0:00:19, val_loss: 0.5615, val_time: 0:00:19\n",
      "Epoch: 35, train_loss: 0.5633, train_time: 0:00:19, val_loss: 0.556, val_time: 0:00:19\n",
      "Epoch: 36, train_loss: 0.5576, train_time: 0:00:18, val_loss: 0.5529, val_time: 0:00:19\n",
      "Epoch: 37, train_loss: 0.5534, train_time: 0:00:20, val_loss: 0.5539, val_time: 0:00:18\n",
      "Epoch: 38, train_loss: 0.5689, train_time: 0:00:18, val_loss: 0.5551, val_time: 0:00:20\n",
      "Epoch: 39, train_loss: 0.5543, train_time: 0:00:19, val_loss: 0.5479, val_time: 0:00:19\n",
      "Epoch: 40, train_loss: 0.5492, train_time: 0:00:19, val_loss: 0.5465, val_time: 0:00:19\n",
      "Epoch: 41, train_loss: 0.5472, train_time: 0:00:18, val_loss: 0.5439, val_time: 0:00:18\n",
      "Epoch: 42, train_loss: 0.548, train_time: 0:00:20, val_loss: 0.5448, val_time: 0:00:19\n",
      "Epoch: 43, train_loss: 0.557, train_time: 0:00:18, val_loss: 0.5565, val_time: 0:00:19\n",
      "Epoch: 44, train_loss: 0.5617, train_time: 0:00:20, val_loss: 0.5443, val_time: 0:00:19\n",
      "Epoch: 45, train_loss: 0.5502, train_time: 0:00:19, val_loss: 0.5555, val_time: 0:00:19\n",
      "Epoch: 46, train_loss: 0.5504, train_time: 0:00:20, val_loss: 0.553, val_time: 0:00:20\n",
      "Epoch: 47, train_loss: 0.5543, train_time: 0:00:19, val_loss: 0.5519, val_time: 0:00:18\n",
      "Epoch: 48, train_loss: 0.5504, train_time: 0:00:20, val_loss: 0.5403, val_time: 0:00:19\n",
      "Epoch: 49, train_loss: 0.54, train_time: 0:00:18, val_loss: 0.5396, val_time: 0:00:19\n",
      "Epoch: 50, train_loss: 0.5403, train_time: 0:00:20, val_loss: 0.5383, val_time: 0:00:18\n",
      "Epoch: 51, train_loss: 0.5386, train_time: 0:00:18, val_loss: 0.5357, val_time: 0:00:20\n",
      "Epoch: 52, train_loss: 0.5368, train_time: 0:00:19, val_loss: 0.5372, val_time: 0:00:20\n",
      "Epoch: 53, train_loss: 0.5372, train_time: 0:00:18, val_loss: 0.5345, val_time: 0:00:18\n",
      "Epoch: 54, train_loss: 0.5343, train_time: 0:00:19, val_loss: 0.5335, val_time: 0:00:19\n",
      "Epoch: 55, train_loss: 0.5346, train_time: 0:00:18, val_loss: 0.5282, val_time: 0:00:19\n",
      "Epoch: 56, train_loss: 0.528, train_time: 0:00:20, val_loss: 0.537, val_time: 0:00:19\n",
      "Epoch: 57, train_loss: 0.5381, train_time: 0:00:19, val_loss: 0.5299, val_time: 0:00:19\n",
      "Epoch: 58, train_loss: 0.5284, train_time: 0:00:19, val_loss: 0.5306, val_time: 0:00:19\n",
      "Epoch: 59, train_loss: 0.5289, train_time: 0:00:19, val_loss: 0.5451, val_time: 0:00:19\n",
      "Epoch: 60, train_loss: 0.5505, train_time: 0:00:18, val_loss: 0.551, val_time: 0:00:18\n",
      "Epoch: 61, train_loss: 0.5568, train_time: 0:00:19, val_loss: 0.5478, val_time: 0:00:19\n",
      "Epoch: 62, train_loss: 0.5488, train_time: 0:00:20, val_loss: 0.5332, val_time: 0:00:19\n",
      "Epoch: 63, train_loss: 0.5273, train_time: 0:00:18, val_loss: 0.5556, val_time: 0:00:19\n",
      "Epoch: 64, train_loss: 0.5443, train_time: 0:00:19, val_loss: 0.5325, val_time: 0:00:18\n",
      "Epoch: 65, train_loss: 0.5346, train_time: 0:00:18, val_loss: 0.532, val_time: 0:00:20\n",
      "Epoch: 66, train_loss: 0.5296, train_time: 0:00:18, val_loss: 0.5265, val_time: 0:00:18\n",
      "Epoch: 67, train_loss: 0.5266, train_time: 0:00:19, val_loss: 0.5217, val_time: 0:00:19\n",
      "Epoch: 68, train_loss: 0.5283, train_time: 0:00:18, val_loss: 0.536, val_time: 0:00:18\n",
      "Epoch: 69, train_loss: 0.5272, train_time: 0:00:20, val_loss: 0.546, val_time: 0:00:19\n",
      "Epoch: 70, train_loss: 0.5353, train_time: 0:00:20, val_loss: 0.5209, val_time: 0:00:18\n",
      "Epoch: 71, train_loss: 0.5306, train_time: 0:00:18, val_loss: 0.5327, val_time: 0:00:19\n",
      "Epoch: 72, train_loss: 0.5274, train_time: 0:00:19, val_loss: 0.5482, val_time: 0:00:18\n",
      "Epoch: 73, train_loss: 0.5463, train_time: 0:00:19, val_loss: 0.5172, val_time: 0:00:19\n",
      "Epoch: 74, train_loss: 0.5316, train_time: 0:00:18, val_loss: 0.5282, val_time: 0:00:18\n",
      "Epoch: 75, train_loss: 0.5256, train_time: 0:00:19, val_loss: 0.5265, val_time: 0:00:19\n",
      "Epoch: 76, train_loss: 0.5322, train_time: 0:00:18, val_loss: 0.5154, val_time: 0:00:19\n",
      "Epoch: 77, train_loss: 0.5247, train_time: 0:00:19, val_loss: 0.5498, val_time: 0:00:18\n",
      "Epoch: 78, train_loss: 0.5464, train_time: 0:00:18, val_loss: 0.5387, val_time: 0:00:19\n",
      "Epoch: 79, train_loss: 0.5359, train_time: 0:00:19, val_loss: 0.5389, val_time: 0:00:19\n",
      "Epoch: 80, train_loss: 0.5395, train_time: 0:00:19, val_loss: 0.5212, val_time: 0:00:18\n",
      "Epoch: 81, train_loss: 0.521, train_time: 0:00:19, val_loss: 0.5115, val_time: 0:00:19\n",
      "Epoch: 82, train_loss: 0.5094, train_time: 0:00:18, val_loss: 0.5097, val_time: 0:00:18\n",
      "Epoch: 83, train_loss: 0.511, train_time: 0:00:19, val_loss: 0.5059, val_time: 0:00:19\n",
      "Epoch: 84, train_loss: 0.5063, train_time: 0:00:18, val_loss: 0.5014, val_time: 0:00:19\n",
      "Epoch: 85, train_loss: 0.501, train_time: 0:00:20, val_loss: 0.5128, val_time: 0:00:18\n",
      "Epoch: 86, train_loss: 0.5108, train_time: 0:00:18, val_loss: 0.4982, val_time: 0:00:19\n",
      "Epoch: 87, train_loss: 0.4977, train_time: 0:00:19, val_loss: 0.4954, val_time: 0:00:20\n",
      "Epoch: 88, train_loss: 0.4954, train_time: 0:00:19, val_loss: 0.4914, val_time: 0:00:18\n",
      "Epoch: 89, train_loss: 0.499, train_time: 0:00:19, val_loss: 0.4966, val_time: 0:00:19\n",
      "Epoch: 90, train_loss: 0.4929, train_time: 0:00:18, val_loss: 0.4959, val_time: 0:00:18\n",
      "Epoch: 91, train_loss: 0.5054, train_time: 0:00:19, val_loss: 0.5094, val_time: 0:00:19\n",
      "Epoch: 92, train_loss: 0.5087, train_time: 0:00:18, val_loss: 0.4952, val_time: 0:00:19\n",
      "Epoch: 93, train_loss: 0.4943, train_time: 0:00:19, val_loss: 0.4863, val_time: 0:00:18\n",
      "Epoch: 94, train_loss: 0.4891, train_time: 0:00:18, val_loss: 0.5011, val_time: 0:00:19\n",
      "Epoch: 95, train_loss: 0.4918, train_time: 0:00:19, val_loss: 0.5009, val_time: 0:00:18\n",
      "Epoch: 96, train_loss: 0.4914, train_time: 0:00:19, val_loss: 0.4983, val_time: 0:00:19\n",
      "Epoch: 97, train_loss: 0.5046, train_time: 0:00:19, val_loss: 0.4999, val_time: 0:00:19\n",
      "Epoch: 98, train_loss: 0.498, train_time: 0:00:18, val_loss: 0.5077, val_time: 0:00:18\n",
      "Epoch: 99, train_loss: 0.5035, train_time: 0:00:19, val_loss: 0.4938, val_time: 0:00:18\n"
     ]
    }
   ],
   "source": [
    "model = WickUnet()\n",
    "model.cuda()\n",
    "optimizer = Adam(model.parameters(), lr=0.001)\n",
    "loss_fun = nn.BCEWithLogitsLoss()\n",
    "\n",
    "train_ds = ImageDataset(train_files, train_transform)\n",
    "val_ds = ImageDataset(val_files, val_transform)\n",
    "\n",
    "train_dl = DataLoader(train_ds, batch_size, shuffle=True)\n",
    "val_dl = DataLoader(val_ds, batch_size, shuffle=False)\n",
    "\n",
    "\n",
    "for t in range(epoch):\n",
    "    start = time.time()\n",
    "    tl = train(model, train_dl, loss_fun, optimizer)\n",
    "    train_time = format_time(time.time() - start)\n",
    "\n",
    "    start = time.time()\n",
    "    vl = validate(model, train_dl, loss_fun)\n",
    "    val_time = format_time(time.time() - start)\n",
    "\n",
    "    train_loss[t] = tl\n",
    "    validation_loss[t] = vl\n",
    "\n",
    "    print(f'Epoch: {t}, train_loss: {round(tl, 4)}, train_time: {train_time}, val_loss: {round(vl, 4)}, val_time: {val_time}')"
   ]
  },
  {
   "cell_type": "code",
   "execution_count": 50,
   "metadata": {
    "colab": {
     "base_uri": "https://localhost:8080/",
     "height": 265
    },
    "id": "jhLLep1QIfRF",
    "outputId": "40a56e27-3efd-4ffd-9dc6-b38ef29df696"
   },
   "outputs": [
    {
     "data": {
      "image/png": "[encoded data removed]",
      "text/plain": [
       "<Figure size 432x288 with 1 Axes>"
      ]
     },
     "metadata": {
      "needs_background": "light",
      "tags": []
     },
     "output_type": "display_data"
    }
   ],
   "source": [
    "lists = sorted(train_loss.items()) \n",
    "\n",
    "x, y = zip(*lists)\n",
    "\n",
    "plt.plot(x, y, label = 'train')\n",
    "lists_1 = sorted(validation_loss.items())\n",
    "\n",
    "x_1, y_1 = zip(*lists_1) \n",
    "\n",
    "plt.plot(x_1, y_1, label = 'val')\n",
    "plt.legend()\n",
    "plt.show()"
   ]
  },
  {
   "cell_type": "code",
   "execution_count": 55,
   "metadata": {
    "id": "8Xqc4suuZzHz"
   },
   "outputs": [],
   "source": [
    "torch.save(model, 'drive/MyDrive/final/model.pt')"
   ]
  },
  {
   "cell_type": "code",
   "execution_count": 54,
   "metadata": {
    "colab": {
     "base_uri": "https://localhost:8080/",
     "height": 17
    },
    "id": "RuH0_zBjabfx",
    "outputId": "867bea54-47ba-44a8-d307-4b661e93cba5"
   },
   "outputs": [
    {
     "data": {
      "application/javascript": [
       "\n",
       "    async function download(id, filename, size) {\n",
       "      if (!google.colab.kernel.accessAllowed) {\n",
       "        return;\n",
       "      }\n",
       "      const div = document.createElement('div');\n",
       "      const label = document.createElement('label');\n",
       "      label.textContent = `Downloading \"${filename}\": `;\n",
       "      div.appendChild(label);\n",
       "      const progress = document.createElement('progress');\n",
       "      progress.max = size;\n",
       "      div.appendChild(progress);\n",
       "      document.body.appendChild(div);\n",
       "\n",
       "      const buffers = [];\n",
       "      let downloaded = 0;\n",
       "\n",
       "      const channel = await google.colab.kernel.comms.open(id);\n",
       "      // Send a message to notify the kernel that we're ready.\n",
       "      channel.send({})\n",
       "\n",
       "      for await (const message of channel.messages) {\n",
       "        // Send a message to notify the kernel that we're ready.\n",
       "        channel.send({})\n",
       "        if (message.buffers) {\n",
       "          for (const buffer of message.buffers) {\n",
       "            buffers.push(buffer);\n",
       "            downloaded += buffer.byteLength;\n",
       "            progress.value = downloaded;\n",
       "          }\n",
       "        }\n",
       "      }\n",
       "      const blob = new Blob(buffers, {type: 'application/binary'});\n",
       "      const a = document.createElement('a');\n",
       "      a.href = window.URL.createObjectURL(blob);\n",
       "      a.download = filename;\n",
       "      div.appendChild(a);\n",
       "      a.click();\n",
       "      div.remove();\n",
       "    }\n",
       "  "
      ],
      "text/plain": [
       "<IPython.core.display.Javascript object>"
      ]
     },
     "metadata": {
      "tags": []
     },
     "output_type": "display_data"
    },
    {
     "data": {
      "application/javascript": [
       "download(\"download_74d0288a-3483-467c-b5f8-302318b97f28\", \"model.pt\", 9741231)"
      ],
      "text/plain": [
       "<IPython.core.display.Javascript object>"
      ]
     },
     "metadata": {
      "tags": []
     },
     "output_type": "display_data"
    }
   ],
   "source": [
    "files.download('model.pt')"
   ]
  }
 ],
 "metadata": {
  "accelerator": "GPU",
  "colab": {
   "name": "model_1.ipynb",
   "provenance": []
  },
  "kernelspec": {
   "display_name": "Python 3",
   "language": "python",
   "name": "python3"
  },
  "language_info": {
   "codemirror_mode": {
    "name": "ipython",
    "version": 3
   },
   "file_extension": ".py",
   "mimetype": "text/x-python",
   "name": "python",
   "nbconvert_exporter": "python",
   "pygments_lexer": "ipython3",
   "version": "3.8.2"
  }
 },
 "nbformat": 4,
 "nbformat_minor": 4
}
