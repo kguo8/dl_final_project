{
 "cells": [
  {
   "cell_type": "code",
   "execution_count": 1,
   "metadata": {},
   "outputs": [],
   "source": [
    "from bs4 import BeautifulSoup\n",
    "import cv2\n",
    "import numpy as np\n",
    "import os\n",
    "import scipy\n",
    "from scipy import sparse\n",
    "from tqdm import tqdm"
   ]
  },
  {
   "cell_type": "code",
   "execution_count": 2,
   "metadata": {},
   "outputs": [],
   "source": [
    "file_names = []\n",
    "\n",
    "for file in os.listdir('prima'):\n",
    "    if len(file) == 12:\n",
    "        file_names.append(file[:8])"
   ]
  },
  {
   "cell_type": "code",
   "execution_count": 3,
   "metadata": {},
   "outputs": [],
   "source": [
    "def extract_mask(xml_string, img_shape):\n",
    "    soup_xml = BeautifulSoup(xml_string, 'lxml')\n",
    "\n",
    "    text_region_points = []\n",
    "\n",
    "    ordered_list = soup_xml.find_all('regionrefindexed')\n",
    "\n",
    "    for region in ordered_list:\n",
    "        ref_id = region['regionref']\n",
    "        coords = soup_xml.find(\n",
    "            'textregion', {'id': ref_id},\n",
    "        ).findAll('point')\n",
    "\n",
    "        if coords:\n",
    "            region = []\n",
    "            for point in coords:\n",
    "                region.append([int(point['x']), int(point['y'])])\n",
    "\n",
    "            text_region_points.append(np.array(region))\n",
    "\n",
    "    canvas = np.zeros(img_shape, np.uint8)\n",
    "    # color set to 1 b.c we want binary\n",
    "    cv2.drawContours(canvas, text_region_points, -1, (1), -1)\n",
    "    cv2.polylines(canvas, text_region_points, isClosed=True, color=(1), thickness=2)        \n",
    "\n",
    "    return canvas"
   ]
  },
  {
   "cell_type": "code",
   "execution_count": 5,
   "metadata": {},
   "outputs": [
    {
     "name": "stderr",
     "output_type": "stream",
     "text": [
      "100%|██████████| 50/50 [05:40<00:00,  6.80s/it]\n"
     ]
    }
   ],
   "source": [
    "for file_name in tqdm(file_names):\n",
    "    img = cv2.imread(f'prima/{file_name}.tif')\n",
    "\n",
    "    with open(f'prima/pc-{file_name}.xml') as f:\n",
    "        xml_string = f.read()\n",
    "    \n",
    "    mask = extract_mask(xml_string, img.shape[:2])\n",
    "    sparse_mask = sparse.csr_matrix(mask)\n",
    "    \n",
    "    scipy.sparse.save_npz(f'prima/mask_{file_name}.npz', sparse_mask)"
   ]
  },
  {
   "cell_type": "markdown",
   "metadata": {},
   "source": [
    " "
   ]
  }
 ],
 "metadata": {
  "kernelspec": {
   "display_name": "Python 3",
   "language": "python",
   "name": "python3"
  },
  "language_info": {
   "codemirror_mode": {
    "name": "ipython",
    "version": 3
   },
   "file_extension": ".py",
   "mimetype": "text/x-python",
   "name": "python",
   "nbconvert_exporter": "python",
   "pygments_lexer": "ipython3",
   "version": "3.8.5"
  }
 },
 "nbformat": 4,
 "nbformat_minor": 4
}
